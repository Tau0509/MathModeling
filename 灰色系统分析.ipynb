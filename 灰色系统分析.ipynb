{
 "cells": [
  {
   "cell_type": "markdown",
   "metadata": {},
   "source": [
    "## 简介\n",
    "**根据序列曲线几何形状的相似程度来判断联系是否紧密**\n",
    "**对于样本量多少、样本间有无规律都适用**\n",
    "在进行计算时，应当首先考虑选取能够准确反映系统行为特征等数据序列\n",
    "## 实现"
   ]
  },
  {
   "cell_type": "code",
   "execution_count": 1,
   "metadata": {},
   "outputs": [],
   "source": [
    "import numpy as np\n",
    "\n",
    "A=np.array(eval(input('请输入初始矩阵A:')))\n",
    "\n",
    "Mean=np.mean(A,axis=0) #计算每列的均值\n",
    "\n",
    "A_norm=A/Mean #矩阵归一化\n",
    "print(A_norm) \n"
   ]
  },
  {
   "cell_type": "code",
   "execution_count": null,
   "metadata": {},
   "outputs": [],
   "source": [
    "Y=A_norm[:,0] #取第一列为母序列\n",
    "X=A_norm[:,1:] #取剩余列为子序列\n",
    "\n",
    "absX0_i=np.abs(X-np.tile(Y.reshape(-1,1),(1,X.shape[1])))#计算子序列与母序列的差值\n",
    "\n",
    "a=np.min(absX0_i,axis=0) #计算每列的最小值\n",
    "print(a)\n",
    "b=np.max(absX0_i,axis=0) #计算每列的最大值\n",
    "print(b)\n",
    "\n",
    "rho=0.5 #设置分辨系数\n",
    "\n",
    "gamma=(a+rho*b)/(absX0_i+rho*b) #计算分辨系数\n",
    "\n",
    "print(np.mean(gamma,axis=0)) #计算每列的平均分辨系数"
   ]
  },
  {
   "cell_type": "markdown",
   "metadata": {},
   "source": [
    "在处理过程中输入的矩阵须为正向化矩阵，参照Topsis法修正，如果没有合适的系统情况反应值作为母序列，可以采用每一列的最大值作为母序列。"
   ]
  }
 ],
 "metadata": {
  "kernelspec": {
   "display_name": "Python 3",
   "language": "python",
   "name": "python3"
  },
  "language_info": {
   "codemirror_mode": {
    "name": "ipython",
    "version": 3
   },
   "file_extension": ".py",
   "mimetype": "text/x-python",
   "name": "python",
   "nbconvert_exporter": "python",
   "pygments_lexer": "ipython3",
   "version": "3.9.6"
  }
 },
 "nbformat": 4,
 "nbformat_minor": 2
}
