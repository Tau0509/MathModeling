{
 "cells": [
  {
   "cell_type": "markdown",
   "metadata": {},
   "source": [
    "# 熵权法\n",
    "## 介绍\n",
    "无论是层次分析法或是Topsis法，都需要对数据参数的权重进行设计，而在上述方法中获取的权重都是主观得到的。在一些特定情况下，我们需要**重点获取与其他项不同的权重**\n",
    "\n",
    "熵权法可以以参数的指标的混乱程度（信息熵）来确定参数的权值\n",
    "\n",
    "**数据的变异程度越小，所包含的信息越少**"
   ]
  },
  {
   "cell_type": "code",
   "execution_count": 1,
   "metadata": {},
   "outputs": [
    {
     "name": "stdout",
     "output_type": "stream",
     "text": [
      "[[0.09949879 0.09949879 0.09949879 0.09949879]\n",
      " [0.99498793 0.99498793 0.99498793 0.99498793]\n",
      " [0.00994988 0.00994988 0.00994988 0.00994988]]\n",
      "[0.67842328 0.67842328 0.67842328 0.67842328]\n",
      "[0.25 0.25 0.25 0.25]\n"
     ]
    }
   ],
   "source": [
    "import numpy as np\n",
    "\n",
    "def mylog(p):\n",
    "    n=len(p)\n",
    "    logp=np.zeros(n) #创造一个n维的0向量\n",
    "    for i in range(n):\n",
    "        if p[i]==0:\n",
    "            logp[i]=0 \n",
    "        else:\n",
    "            logp[i]=np.log(p[i])\n",
    "    return logp\n",
    "\n",
    "X=np.array([[0.1,0.2,0.3,0.4],[1,2,3,4],[0.01,0.02,0.03,0.04]])\n",
    "\n",
    "Z=X/ np.sqrt(np.sum(X**2,axis=0)) #axis=0表示按列求和\n",
    "\n",
    "print(Z) #输出归一化后的矩阵\n",
    "\n",
    "n,m=Z.shape\n",
    "D=np.zeros(m) #创造一个m维的0向量\n",
    "for i in range(m):\n",
    "    x=Z[:,i] #取出Z的第i列\n",
    "    p=x/np.sum(x) #计算x的概率分布 \n",
    "    e=-np.sum(p*mylog(p))/np.log(n)#计算熵 \n",
    "    D[i]=1-e #计算相对熵\n",
    "\n",
    "print(D) #输出相对熵\n",
    "W=D/np.sum(D) #计算权重\n",
    "print(W) #输出权重\n"
   ]
  }
 ],
 "metadata": {
  "kernelspec": {
   "display_name": "Python 3",
   "language": "python",
   "name": "python3"
  },
  "language_info": {
   "codemirror_mode": {
    "name": "ipython",
    "version": 3
   },
   "file_extension": ".py",
   "mimetype": "text/x-python",
   "name": "python",
   "nbconvert_exporter": "python",
   "pygments_lexer": "ipython3",
   "version": "3.12.4"
  }
 },
 "nbformat": 4,
 "nbformat_minor": 2
}
