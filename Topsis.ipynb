{
 "cells": [
  {
   "cell_type": "markdown",
   "metadata": {},
   "source": [
    "# Topsis分析\n",
    "## 简介\n",
    "将影响决策分析的多个因素拆分成多个维度，在向量空间中考察其距离\n",
    "\n",
    "通过确定各种情况与理想值中的距离而确定最终解"
   ]
  },
  {
   "cell_type": "code",
   "execution_count": null,
   "metadata": {},
   "outputs": [],
   "source": [
    "import numpy as np\n",
    "\n",
    "print(\"参评数\")\n",
    "ParticipateNumber = int(input())\n",
    "print(\"参数数量\")\n",
    "ArgueNumber = int(input())\n",
    "\n",
    "print(\"请输入类型矩阵\")\n",
    "kind= input().split(\" \")\n",
    "\n",
    "#接受输入并且转化为NumPy数组\n",
    "print(\"请输入参数矩阵\")\n",
    "A=np.zeros((ParticipateNumber,ArgueNumber))\n",
    "for i in range(ParticipateNumber):\n",
    "    A[i]=input().split(\" \")\n",
    "    A[i]=list(map(float,A[i]))\n",
    "print(A)\n",
    "    "
   ]
  }
 ],
 "metadata": {
  "kernelspec": {
   "display_name": "Python 3",
   "language": "python",
   "name": "python3"
  },
  "language_info": {
   "codemirror_mode": {
    "name": "ipython",
    "version": 3
   },
   "file_extension": ".py",
   "mimetype": "text/x-python",
   "name": "python",
   "nbconvert_exporter": "python",
   "pygments_lexer": "ipython3",
   "version": "3.12.4"
  }
 },
 "nbformat": 4,
 "nbformat_minor": 2
}
