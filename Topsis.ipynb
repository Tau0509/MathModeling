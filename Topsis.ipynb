{
 "cells": [
  {
   "cell_type": "markdown",
   "metadata": {},
   "source": [
    "# Topsis分析\n",
    "## 简介\n",
    "将影响决策分析的多个因素拆分成多个维度，在向量空间中考察其距离\n",
    "通过确定各种情况与理想值中的距离而确定最终解"
   ]
  },
  {
   "cell_type": "code",
   "execution_count": null,
   "metadata": {},
   "outputs": [],
   "source": []
  }
 ],
 "metadata": {
  "language_info": {
   "name": "python"
  }
 },
 "nbformat": 4,
 "nbformat_minor": 2
}
