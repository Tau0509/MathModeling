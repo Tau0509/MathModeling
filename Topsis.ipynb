{
 "cells": [
  {
   "cell_type": "markdown",
   "metadata": {},
   "source": [
    "# Topsis分析\n",
    "## 简介\n",
    "将影响决策分析的多个因素拆分成多个维度，在向量空间中考察其距离\n",
    "\n",
    "通过确定各种情况与理想值中的距离而确定最终解"
   ]
  },
  {
   "cell_type": "code",
   "execution_count": null,
   "metadata": {},
   "outputs": [],
   "source": [
    "import numpy as np\n",
    "\n",
    "print(\"参评数\")\n",
    "ParticipateNumber = int(input())\n",
    "print(\"参数数量\")\n",
    "ArgueNumber = int(input())\n",
    "\n",
    "print(\"请输入类型矩阵\")\n",
    "kind= input().split(\" \")\n",
    "\n",
    "#接受输入并且转化为NumPy数组\n",
    "print(\"请输入参数矩阵\")\n",
    "A=np.zeros(shape=(ParticipateNumber,ArgueNumber))\n",
    "for i in range(ParticipateNumber):\n",
    "    A[i]=input().split(\" \")\n",
    "    A[i]=list(map(float,A[i]))\n",
    "print(A)\n",
    "    "
   ]
  },
  {
   "cell_type": "markdown",
   "metadata": {},
   "source": [
    "## 不同类型转化为极大型指标的函数"
   ]
  },
  {
   "cell_type": "code",
   "execution_count": null,
   "metadata": {},
   "outputs": [],
   "source": [
    "def MinToMax(MAXnum,x):\n",
    "    #将最小值类型转化为最大值类型\n",
    "    x=list(x)\n",
    "    h=[abs(MAXnum-i) for i in x]\n",
    "    return np.array(h)\n",
    "\n",
    "def MidToMax(BESTnum,x):\n",
    "    #将中间值类型转化为最大值类型\n",
    "    x=list(x)\n",
    "    h=[abs(BESTnum-i) for i in x]  #计算每个参数到最优值的距离\n",
    "    M=max(h) #计算最大距离\n",
    "    if M==0: #如果最大距离为0，说明所有参数都是最优值，返回1\n",
    "        M=1 \n",
    "    ans=[[(1-i/M) for i in h]] #计算每个参数的适应度\n",
    "    return np.array(ans)\n",
    "\n",
    "def RegToMax(Low,High,x):\n",
    "    #将区间值类型转化为最大值类型\n",
    "    x=list(x)\n",
    "    M=max(Low-min(x),max(x)-High) #计算最大距离\n",
    "    if M==0:\n",
    "        M=1\n",
    "    ans=[]\n",
    "    for i in x:\n",
    "        if i<Low:\n",
    "            ans.append(1-(Low-x[i])/M)\n",
    "        elif i>High:\n",
    "            ans.append(1-(x[i]-High)/M)\n",
    "        else:   \n",
    "            ans.append(1)\n",
    "    return np.array(ans)\n",
    "            \n",
    "ans=np.zeros(shape=(ParticipateNumber,1)) #初始化最大值类型矩阵\n",
    "for i in range(ArgueNumber): #遍历每个参数\n",
    "    if kind[i]==\"1\": #如果是最大值类型\n",
    "        v=np.array(A[:,i]) #直接将参数值赋给最大值类型\n",
    "    elif kind[i]==\"2\":  #如果是最小值类型\n",
    "        maxA=max(A[:,i]) #找到参数的最大值\n",
    "        v=MinToMax(maxA,A[:,i])  #将最小值类型转化为最大值类型\n",
    "    elif kind[i]==\"3\":\n",
    "        print(\"请输入最优值\")\n",
    "        BESTnum=int(input())\n",
    "        v=MidToMax(BESTnum,A[:,i])\n",
    "    elif kind[i]==\"4\":\n",
    "        print(\"请输入最小值和最大值\")\n",
    "        Low,High=map(int,input().split(\" \"))\n",
    "        v=RegToMax(Low,High,A[:,i])\n",
    "    if i==0:  #将每个参数的最大值类型拼接成矩阵\n",
    "        ans=v.reshape(-1,1)  #如果是第一个参数，直接赋值\n",
    "                              #如果不是第一个参数，拼接到矩阵后面\n",
    "    else:\n",
    "        ans=np.hstack([ans,v.reshape(-1,1)])\n",
    "        \n",
    "print(ans)\n"
   ]
  },
  {
   "cell_type": "markdown",
   "metadata": {},
   "source": [
    "## 归一化处理"
   ]
  },
  {
   "cell_type": "code",
   "execution_count": null,
   "metadata": {},
   "outputs": [],
   "source": [
    "ans=ans.astype(\"float\") #将最大值类型矩阵转化为浮点数\n",
    "for j in range(ParticipateNumber): #遍历每个参评者\n",
    "    ans[:,j]=ans[:,j]/np.sqrt(sum(ans[:,j]**2)) #计算每个参评者的适应度,并且归一化，除以欧几里得范数\n",
    "print(ans)"
   ]
  },
  {
   "cell_type": "markdown",
   "metadata": {},
   "source": [
    "## 计算得分"
   ]
  },
  {
   "cell_type": "code",
   "execution_count": null,
   "metadata": {},
   "outputs": [],
   "source": [
    "x_max=np.max(ans,axis=0); #计算每个参数的最大值\n",
    "print(x_max)\n",
    "x_min=np.min(ans,axis=0); #计算每个参数的最小值\n",
    "print(x_min)\n",
    "d_z=np.sqrt(np.sum(np.sqrt((ans-np.title(x_max,(ArgueNumber,1)))),axis=1)) #计算每个参评者到最大值的距离\n",
    "print(d_z) #输出每个参评者到最大值的距离\n",
    "d_f=np.sqrt(np.sum(np.sqrt((ans-np.title(x_min,(ArgueNumber,1)))),axis=1)) #计算每个参评者到最小值的距离\n",
    "print(d_f) #输出每个参评者到最小值的距离\n",
    "\n",
    "s=(d_f/(d_f+d_z)) #计算每个参评者的适应度\n",
    "Score =100*s/sum(s) #计算每个参评者的适应度\n",
    "print(s) #输出每个参评者的适应度\n",
    "\n",
    "print(\"按任意键退出\")\n",
    "cmd=input()"
   ]
  }
 ],
 "metadata": {
  "kernelspec": {
   "display_name": "Python 3",
   "language": "python",
   "name": "python3"
  },
  "language_info": {
   "codemirror_mode": {
    "name": "ipython",
    "version": 3
   },
   "file_extension": ".py",
   "mimetype": "text/x-python",
   "name": "python",
   "nbconvert_exporter": "python",
   "pygments_lexer": "ipython3",
   "version": "3.12.4"
  }
 },
 "nbformat": 4,
 "nbformat_minor": 2
}
