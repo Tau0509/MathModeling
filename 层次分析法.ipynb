{
 "cells": [
  {
   "cell_type": "markdown",
   "metadata": {},
   "source": [
    "# 层次分析法简介\n",
    "\n",
    "层次分析法为解决问题确定各个数据的权重提供判断依据\n"
   ]
  },
  {
   "cell_type": "markdown",
   "metadata": {},
   "source": [
    "## 一致性检验\n",
    "对于重要性矩阵而言，为防止出现矛盾构造正互反矩阵\n",
    "确保其为一致矩阵（或与一致矩阵的区别不大）\n",
    "\n",
    "一致矩阵的特征值一定为1\n",
    "\n",
    "### 结论\n",
    "--n阶正互反矩阵A为一致矩阵时 当且仅当最大特征值等于n\n",
    "\n",
    "--当A非一致时 一定有最大特征值大于n\n",
    "\n",
    "--最大特征值和n的差距可以反应矩阵A的不一致程度"
   ]
  },
  {
   "cell_type": "code",
   "execution_count": 26,
   "metadata": {},
   "outputs": [
    {
     "name": "stdout",
     "output_type": "stream",
     "text": [
      "[[1.         2.         3.         5.        ]\n",
      " [0.5        1.         0.5        2.        ]\n",
      " [0.33333333 2.         1.         2.        ]\n",
      " [0.2        0.5        0.5        1.        ]]\n"
     ]
    }
   ],
   "source": [
    "import numpy as np\n",
    "\n",
    "A=np.array([[1,2,3,5],[1/2,1,1/2,2],[1/3,2,1,2],[1/5,1/2,1/2,1]]) #创建一个数组\n",
    "print(A)\n"
   ]
  },
  {
   "cell_type": "code",
   "execution_count": 29,
   "metadata": {},
   "outputs": [
    {
     "name": "stdout",
     "output_type": "stream",
     "text": [
      "4 4\n"
     ]
    }
   ],
   "source": [
    "n=A.shape[0] #获取矩阵的行数\n",
    "m=A.shape[1] #获取矩阵的列数\n",
    "print(n,m)"
   ]
  },
  {
   "cell_type": "code",
   "execution_count": 30,
   "metadata": {},
   "outputs": [
    {
     "name": "stdout",
     "output_type": "stream",
     "text": [
      "(4.112830038192147+0j)\n"
     ]
    }
   ],
   "source": [
    "eig_value,eig_vector=np.linalg.eig(A) #求特征值和特征向量\n",
    "Max_eig_value=max(eig_value) #求最大特征值\n",
    "print(Max_eig_value)"
   ]
  },
  {
   "cell_type": "code",
   "execution_count": null,
   "metadata": {},
   "outputs": [],
   "source": [
    "CI=(Max_eig_value-n)/(n-1) #计算一致性指标\n",
    "print(CI)\n",
    "RI=[0,0,0.58,0.90,1.12,1.24,1.32,1.41,1.45,1.49] #随机一致性指标\n",
    "CR=CI/RI[n-1] #计算一致性比例\n",
    "\n",
    "if CR<0.1:\n",
    "    print(\"一致性通过\")\n",
    "else:\n",
    "    print(\"一致性不通过\")"
   ]
  },
  {
   "cell_type": "markdown",
   "metadata": {},
   "source": [
    "## 算数平均法求权重"
   ]
  },
  {
   "cell_type": "code",
   "execution_count": 33,
   "metadata": {},
   "outputs": [
    {
     "name": "stdout",
     "output_type": "stream",
     "text": [
      "[ 2.03333333  5.5         5.         10.        ]\n",
      "[[0.49180328 0.36363636 0.6        0.5       ]\n",
      " [0.24590164 0.18181818 0.1        0.2       ]\n",
      " [0.16393443 0.36363636 0.2        0.2       ]\n",
      " [0.09836066 0.09090909 0.1        0.1       ]]\n",
      "[1.95543964 0.72771982 0.92757079 0.38926975]\n",
      "[0.48885991 0.18192996 0.2318927  0.09731744]\n"
     ]
    }
   ],
   "source": [
    "Asum_m=np.sum(A,axis=0) #求每一列的和 结果是一个降维的数组\n",
    "print(Asum_m)\n",
    "Standard_A=A/Asum_m #求标准化矩阵  低维数组与高维数组相除，会自动广播\n",
    "print(Standard_A)\n",
    "\n",
    "Asum_n=np.sum(Standard_A,axis=1) #求每一行的和\n",
    "print(Asum_n)\n",
    "\n",
    "W=Asum_n/n #求权重\n",
    "\n",
    "print(W)\n"
   ]
  },
  {
   "cell_type": "markdown",
   "metadata": {},
   "source": [
    "## 几何平均法求权重"
   ]
  },
  {
   "cell_type": "code",
   "execution_count": 34,
   "metadata": {},
   "outputs": [
    {
     "name": "stdout",
     "output_type": "stream",
     "text": [
      "[0.49492567 0.17782883 0.22724501 0.1000005 ]\n"
     ]
    }
   ],
   "source": [
    "#将每一行相乘得到新向量\n",
    "prod_A=np.prod(A,axis=1)\n",
    "\n",
    "#对prod_A进行开n次方\n",
    "prod_A=np.power(prod_A,1/n)\n",
    "\n",
    "#归一化处理\n",
    "re_prod_A=prod_A/np.sum(prod_A)\n",
    "\n",
    "print(re_prod_A)\n"
   ]
  },
  {
   "cell_type": "markdown",
   "metadata": {},
   "source": [
    "## 特征值法求权重"
   ]
  },
  {
   "cell_type": "code",
   "execution_count": 35,
   "metadata": {},
   "outputs": [
    {
     "name": "stdout",
     "output_type": "stream",
     "text": [
      "[0.4933895 +0.j 0.17884562+0.j 0.230339  +0.j 0.09742588+0.j]\n"
     ]
    }
   ],
   "source": [
    "max_index=np.argmax(re_prod_A) #获取最大值的索引\n",
    "max_vector=eig_vector[:,max_index] #获取最大值对应的特征向量\n",
    "weights=max_vector/np.sum(max_vector) #归一化处理\n",
    "print(weights)"
   ]
  }
 ],
 "metadata": {
  "kernelspec": {
   "display_name": "Python 3",
   "language": "python",
   "name": "python3"
  },
  "language_info": {
   "codemirror_mode": {
    "name": "ipython",
    "version": 3
   },
   "file_extension": ".py",
   "mimetype": "text/x-python",
   "name": "python",
   "nbconvert_exporter": "python",
   "pygments_lexer": "ipython3",
   "version": "3.12.4"
  }
 },
 "nbformat": 4,
 "nbformat_minor": 2
}
